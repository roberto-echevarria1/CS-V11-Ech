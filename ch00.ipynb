{
  "cells": [
    {
      "cell_type": "markdown",
      "metadata": {
        "id": "85y2A4d7JCIW"
      },
      "source": [
        "# <p style=\"font-family: Arial; font-size:1.4em;color:gold;\"> Jupyter Notebook </p>\n",
        "<img src=\"https://miro.medium.com/v2/resize:fit:1400/1*RzxZF0mmXAsMLrIzAWYDSg.png\" alt=\"Drawing\" style=\"width: 400px;\"/>"
      ]
    },
    {
      "cell_type": "markdown",
      "metadata": {
        "id": "d5WbAZcmJCIZ"
      },
      "source": [
        "# Task 1. Complete the following code and run it.\n"
      ]
    },
    {
      "cell_type": "markdown",
      "metadata": {
        "id": "lRthKSc5JCIa"
      },
      "source": [
        "### Please run the below code by clicking the small \"play\" button on the left of the cell"
      ]
    },
    {
      "cell_type": "code",
      "execution_count": 1,
      "metadata": {
        "id": "UjAkyUklJCIa",
        "outputId": "f542a4fb-7a14-4629-846a-b77772fe639f",
        "colab": {
          "base_uri": "https://localhost:8080/"
        }
      },
      "outputs": [
        {
          "output_type": "stream",
          "name": "stdout",
          "text": [
            "Hello Wolrd\n"
          ]
        }
      ],
      "source": [
        "print ('Hello Wolrd')"
      ]
    },
    {
      "cell_type": "markdown",
      "metadata": {
        "id": "s2JZv5SSJCIc"
      },
      "source": [
        "### SAVE this file(ctrl-s) At this moment"
      ]
    },
    {
      "cell_type": "markdown",
      "metadata": {
        "id": "e8aF1tJhJCId"
      },
      "source": [
        "# Task 2. Complete the following instructions"
      ]
    },
    {
      "cell_type": "markdown",
      "metadata": {
        "id": "a10srdOgJCId"
      },
      "source": [
        "### Press \"ESC\"\n",
        "### Create a \"Code Cell\" by typing \"b\"\n",
        "### Make the same code to print \"Hello World\"\n",
        "### Run it\n",
        "### Try to move the cell by \"alt - up / down\" in VS Code or \"Ctrl-M J/K\" in Google Colab"
      ]
    },
    {
      "cell_type": "markdown",
      "metadata": {
        "id": "JttCAtxUJCIe"
      },
      "source": [
        "### SAVE this file(ctrl-s) At this moment"
      ]
    },
    {
      "cell_type": "markdown",
      "metadata": {
        "id": "HTAKCWfAJCIe"
      },
      "source": [
        "\n",
        "# Task 3\n",
        "### Create a \"Markdown Cell\"\n",
        "### Add a image in your \"Markdown Cell\" (Refer to the 1st Cell in this notebook file)"
      ]
    },
    {
      "cell_type": "markdown",
      "metadata": {
        "id": "hkCeESlQJCIe"
      },
      "source": [
        "### SAVE this file(ctrl-s) At this moment"
      ]
    },
    {
      "cell_type": "markdown",
      "metadata": {
        "id": "FsMgxyb_JCIf"
      },
      "source": [
        "### Make sure that you should have \"SAVE\" this file at least 3 times.\n",
        "### \"SAVE(ctrl-s)\" will make a snapshot in the Revision History"
      ]
    }
  ],
  "metadata": {
    "kernelspec": {
      "display_name": "base",
      "language": "python",
      "name": "python3"
    },
    "language_info": {
      "codemirror_mode": {
        "name": "ipython",
        "version": 3
      },
      "file_extension": ".py",
      "mimetype": "text/x-python",
      "name": "python",
      "nbconvert_exporter": "python",
      "pygments_lexer": "ipython3",
      "version": "3.9.17"
    },
    "colab": {
      "provenance": []
    }
  },
  "nbformat": 4,
  "nbformat_minor": 0
}